{
 "cells": [
  {
   "cell_type": "code",
   "execution_count": 1,
   "metadata": {},
   "outputs": [],
   "source": [
    "import numpy as np\n",
    "import pandas as pd\n",
    "import scipy.stats as stats\n",
    "import seaborn as sns\n",
    "from sklearn.metrics import (classification_report, confusion_matrix,\n",
    "                             roc_auc_score)\n",
    "from sklearn.model_selection import train_test_split\n",
    "from tqdm import tqdm"
   ]
  },
  {
   "cell_type": "markdown",
   "metadata": {},
   "source": [
    "#### Read Lunit preds"
   ]
  },
  {
   "cell_type": "code",
   "execution_count": 2,
   "metadata": {},
   "outputs": [
    {
     "name": "stdout",
     "output_type": "stream",
     "text": [
      "(305, 3)\n"
     ]
    },
    {
     "data": {
      "text/html": [
       "<div>\n",
       "<style scoped>\n",
       "    .dataframe tbody tr th:only-of-type {\n",
       "        vertical-align: middle;\n",
       "    }\n",
       "\n",
       "    .dataframe tbody tr th {\n",
       "        vertical-align: top;\n",
       "    }\n",
       "\n",
       "    .dataframe thead th {\n",
       "        text-align: right;\n",
       "    }\n",
       "</style>\n",
       "<table border=\"1\" class=\"dataframe\">\n",
       "  <thead>\n",
       "    <tr style=\"text-align: right;\">\n",
       "      <th></th>\n",
       "      <th>Patient ID</th>\n",
       "      <th>y_score_0</th>\n",
       "      <th>y_score_1</th>\n",
       "    </tr>\n",
       "  </thead>\n",
       "  <tbody>\n",
       "    <tr>\n",
       "      <th>0</th>\n",
       "      <td>Breast_MRI_549</td>\n",
       "      <td>0.2646</td>\n",
       "      <td>0.7354</td>\n",
       "    </tr>\n",
       "    <tr>\n",
       "      <th>1</th>\n",
       "      <td>Breast_MRI_247</td>\n",
       "      <td>0.1412</td>\n",
       "      <td>0.8588</td>\n",
       "    </tr>\n",
       "    <tr>\n",
       "      <th>2</th>\n",
       "      <td>Breast_MRI_878</td>\n",
       "      <td>0.3014</td>\n",
       "      <td>0.6986</td>\n",
       "    </tr>\n",
       "    <tr>\n",
       "      <th>3</th>\n",
       "      <td>Breast_MRI_875</td>\n",
       "      <td>0.1114</td>\n",
       "      <td>0.8886</td>\n",
       "    </tr>\n",
       "    <tr>\n",
       "      <th>4</th>\n",
       "      <td>Breast_MRI_632</td>\n",
       "      <td>0.1778</td>\n",
       "      <td>0.8222</td>\n",
       "    </tr>\n",
       "  </tbody>\n",
       "</table>\n",
       "</div>"
      ],
      "text/plain": [
       "       Patient ID  y_score_0  y_score_1\n",
       "0  Breast_MRI_549     0.2646     0.7354\n",
       "1  Breast_MRI_247     0.1412     0.8588\n",
       "2  Breast_MRI_878     0.3014     0.6986\n",
       "3  Breast_MRI_875     0.1114     0.8886\n",
       "4  Breast_MRI_632     0.1778     0.8222"
      ]
     },
     "execution_count": 2,
     "metadata": {},
     "output_type": "execute_result"
    }
   ],
   "source": [
    "df_lunit_preds = pd.read_excel('../data/lunit_predictions.xlsx')\n",
    "print(df_lunit_preds.shape)\n",
    "df_lunit_preds.head()"
   ]
  },
  {
   "cell_type": "markdown",
   "metadata": {},
   "source": [
    "#### Read our preds"
   ]
  },
  {
   "cell_type": "code",
   "execution_count": 3,
   "metadata": {},
   "outputs": [
    {
     "name": "stdout",
     "output_type": "stream",
     "text": [
      "(305, 4)\n"
     ]
    },
    {
     "data": {
      "text/html": [
       "<div>\n",
       "<style scoped>\n",
       "    .dataframe tbody tr th:only-of-type {\n",
       "        vertical-align: middle;\n",
       "    }\n",
       "\n",
       "    .dataframe tbody tr th {\n",
       "        vertical-align: top;\n",
       "    }\n",
       "\n",
       "    .dataframe thead th {\n",
       "        text-align: right;\n",
       "    }\n",
       "</style>\n",
       "<table border=\"1\" class=\"dataframe\">\n",
       "  <thead>\n",
       "    <tr style=\"text-align: right;\">\n",
       "      <th></th>\n",
       "      <th>Patient ID</th>\n",
       "      <th>y_score_0</th>\n",
       "      <th>y_score_1</th>\n",
       "      <th>y_true</th>\n",
       "    </tr>\n",
       "  </thead>\n",
       "  <tbody>\n",
       "    <tr>\n",
       "      <th>0</th>\n",
       "      <td>Breast_MRI_002</td>\n",
       "      <td>0.246281</td>\n",
       "      <td>0.753719</td>\n",
       "      <td>0</td>\n",
       "    </tr>\n",
       "    <tr>\n",
       "      <th>1</th>\n",
       "      <td>Breast_MRI_004</td>\n",
       "      <td>0.171976</td>\n",
       "      <td>0.828024</td>\n",
       "      <td>1</td>\n",
       "    </tr>\n",
       "    <tr>\n",
       "      <th>2</th>\n",
       "      <td>Breast_MRI_006</td>\n",
       "      <td>0.271742</td>\n",
       "      <td>0.728258</td>\n",
       "      <td>1</td>\n",
       "    </tr>\n",
       "    <tr>\n",
       "      <th>3</th>\n",
       "      <td>Breast_MRI_007</td>\n",
       "      <td>0.183952</td>\n",
       "      <td>0.816048</td>\n",
       "      <td>1</td>\n",
       "    </tr>\n",
       "    <tr>\n",
       "      <th>4</th>\n",
       "      <td>Breast_MRI_010</td>\n",
       "      <td>0.570598</td>\n",
       "      <td>0.429402</td>\n",
       "      <td>0</td>\n",
       "    </tr>\n",
       "  </tbody>\n",
       "</table>\n",
       "</div>"
      ],
      "text/plain": [
       "       Patient ID  y_score_0  y_score_1  y_true\n",
       "0  Breast_MRI_002   0.246281   0.753719       0\n",
       "1  Breast_MRI_004   0.171976   0.828024       1\n",
       "2  Breast_MRI_006   0.271742   0.728258       1\n",
       "3  Breast_MRI_007   0.183952   0.816048       1\n",
       "4  Breast_MRI_010   0.570598   0.429402       0"
      ]
     },
     "execution_count": 3,
     "metadata": {},
     "output_type": "execute_result"
    }
   ],
   "source": [
    "df_preds = pd.read_csv('../out/test/preds.csv')\n",
    "print(df_preds.shape)\n",
    "df_preds.head()"
   ]
  },
  {
   "cell_type": "markdown",
   "metadata": {},
   "source": [
    "#### Join data, calculate class labels (threshold=0.5)"
   ]
  },
  {
   "cell_type": "code",
   "execution_count": 4,
   "metadata": {},
   "outputs": [
    {
     "data": {
      "text/html": [
       "<div>\n",
       "<style scoped>\n",
       "    .dataframe tbody tr th:only-of-type {\n",
       "        vertical-align: middle;\n",
       "    }\n",
       "\n",
       "    .dataframe tbody tr th {\n",
       "        vertical-align: top;\n",
       "    }\n",
       "\n",
       "    .dataframe thead th {\n",
       "        text-align: right;\n",
       "    }\n",
       "</style>\n",
       "<table border=\"1\" class=\"dataframe\">\n",
       "  <thead>\n",
       "    <tr style=\"text-align: right;\">\n",
       "      <th></th>\n",
       "      <th>Patient ID</th>\n",
       "      <th>y_score_0</th>\n",
       "      <th>y_score_1</th>\n",
       "      <th>y_true</th>\n",
       "      <th>y_score_0_lunit</th>\n",
       "      <th>y_score_1_lunit</th>\n",
       "      <th>class</th>\n",
       "      <th>class_lunit</th>\n",
       "    </tr>\n",
       "  </thead>\n",
       "  <tbody>\n",
       "    <tr>\n",
       "      <th>0</th>\n",
       "      <td>Breast_MRI_002</td>\n",
       "      <td>0.246281</td>\n",
       "      <td>0.753719</td>\n",
       "      <td>0</td>\n",
       "      <td>0.2038</td>\n",
       "      <td>0.7962</td>\n",
       "      <td>1</td>\n",
       "      <td>1</td>\n",
       "    </tr>\n",
       "    <tr>\n",
       "      <th>1</th>\n",
       "      <td>Breast_MRI_004</td>\n",
       "      <td>0.171976</td>\n",
       "      <td>0.828024</td>\n",
       "      <td>1</td>\n",
       "      <td>0.1782</td>\n",
       "      <td>0.8218</td>\n",
       "      <td>1</td>\n",
       "      <td>1</td>\n",
       "    </tr>\n",
       "    <tr>\n",
       "      <th>2</th>\n",
       "      <td>Breast_MRI_006</td>\n",
       "      <td>0.271742</td>\n",
       "      <td>0.728258</td>\n",
       "      <td>1</td>\n",
       "      <td>0.2056</td>\n",
       "      <td>0.7944</td>\n",
       "      <td>1</td>\n",
       "      <td>1</td>\n",
       "    </tr>\n",
       "    <tr>\n",
       "      <th>3</th>\n",
       "      <td>Breast_MRI_007</td>\n",
       "      <td>0.183952</td>\n",
       "      <td>0.816048</td>\n",
       "      <td>1</td>\n",
       "      <td>0.1586</td>\n",
       "      <td>0.8414</td>\n",
       "      <td>1</td>\n",
       "      <td>1</td>\n",
       "    </tr>\n",
       "    <tr>\n",
       "      <th>4</th>\n",
       "      <td>Breast_MRI_010</td>\n",
       "      <td>0.570598</td>\n",
       "      <td>0.429402</td>\n",
       "      <td>0</td>\n",
       "      <td>0.5102</td>\n",
       "      <td>0.4898</td>\n",
       "      <td>0</td>\n",
       "      <td>0</td>\n",
       "    </tr>\n",
       "  </tbody>\n",
       "</table>\n",
       "</div>"
      ],
      "text/plain": [
       "       Patient ID  y_score_0  y_score_1  y_true  y_score_0_lunit  \\\n",
       "0  Breast_MRI_002   0.246281   0.753719       0           0.2038   \n",
       "1  Breast_MRI_004   0.171976   0.828024       1           0.1782   \n",
       "2  Breast_MRI_006   0.271742   0.728258       1           0.2056   \n",
       "3  Breast_MRI_007   0.183952   0.816048       1           0.1586   \n",
       "4  Breast_MRI_010   0.570598   0.429402       0           0.5102   \n",
       "\n",
       "   y_score_1_lunit  class  class_lunit  \n",
       "0           0.7962      1            1  \n",
       "1           0.8218      1            1  \n",
       "2           0.7944      1            1  \n",
       "3           0.8414      1            1  \n",
       "4           0.4898      0            0  "
      ]
     },
     "execution_count": 4,
     "metadata": {},
     "output_type": "execute_result"
    }
   ],
   "source": [
    "df = df_preds.merge(\n",
    "    right=df_lunit_preds,\n",
    "    on='Patient ID',\n",
    "    suffixes=('', '_lunit')\n",
    ")\n",
    "df['class'] = (df['y_score_1'] >= 0.5).astype(int)\n",
    "df['class_lunit'] = (df['y_score_1_lunit'] >= 0.5).astype(int)\n",
    "df.head()"
   ]
  },
  {
   "cell_type": "markdown",
   "metadata": {},
   "source": [
    "#### Statistics"
   ]
  },
  {
   "cell_type": "code",
   "execution_count": 5,
   "metadata": {},
   "outputs": [
    {
     "data": {
      "text/html": [
       "<div>\n",
       "<style scoped>\n",
       "    .dataframe tbody tr th:only-of-type {\n",
       "        vertical-align: middle;\n",
       "    }\n",
       "\n",
       "    .dataframe tbody tr th {\n",
       "        vertical-align: top;\n",
       "    }\n",
       "\n",
       "    .dataframe thead th {\n",
       "        text-align: right;\n",
       "    }\n",
       "</style>\n",
       "<table border=\"1\" class=\"dataframe\">\n",
       "  <thead>\n",
       "    <tr style=\"text-align: right;\">\n",
       "      <th></th>\n",
       "      <th>y_score_0</th>\n",
       "      <th>y_score_1</th>\n",
       "      <th>y_true</th>\n",
       "      <th>y_score_0_lunit</th>\n",
       "      <th>y_score_1_lunit</th>\n",
       "      <th>class</th>\n",
       "      <th>class_lunit</th>\n",
       "    </tr>\n",
       "  </thead>\n",
       "  <tbody>\n",
       "    <tr>\n",
       "      <th>count</th>\n",
       "      <td>305.000000</td>\n",
       "      <td>305.000000</td>\n",
       "      <td>305.000000</td>\n",
       "      <td>305.000000</td>\n",
       "      <td>305.000000</td>\n",
       "      <td>305.000000</td>\n",
       "      <td>305.000000</td>\n",
       "    </tr>\n",
       "    <tr>\n",
       "      <th>mean</th>\n",
       "      <td>0.241661</td>\n",
       "      <td>0.758339</td>\n",
       "      <td>0.744262</td>\n",
       "      <td>0.234121</td>\n",
       "      <td>0.765879</td>\n",
       "      <td>0.967213</td>\n",
       "      <td>0.977049</td>\n",
       "    </tr>\n",
       "    <tr>\n",
       "      <th>std</th>\n",
       "      <td>0.110915</td>\n",
       "      <td>0.110915</td>\n",
       "      <td>0.436992</td>\n",
       "      <td>0.100203</td>\n",
       "      <td>0.100203</td>\n",
       "      <td>0.178371</td>\n",
       "      <td>0.149993</td>\n",
       "    </tr>\n",
       "    <tr>\n",
       "      <th>min</th>\n",
       "      <td>0.074564</td>\n",
       "      <td>0.285029</td>\n",
       "      <td>0.000000</td>\n",
       "      <td>0.051400</td>\n",
       "      <td>0.303600</td>\n",
       "      <td>0.000000</td>\n",
       "      <td>0.000000</td>\n",
       "    </tr>\n",
       "    <tr>\n",
       "      <th>25%</th>\n",
       "      <td>0.163963</td>\n",
       "      <td>0.703949</td>\n",
       "      <td>0.000000</td>\n",
       "      <td>0.164200</td>\n",
       "      <td>0.710600</td>\n",
       "      <td>1.000000</td>\n",
       "      <td>1.000000</td>\n",
       "    </tr>\n",
       "    <tr>\n",
       "      <th>50%</th>\n",
       "      <td>0.215199</td>\n",
       "      <td>0.784801</td>\n",
       "      <td>1.000000</td>\n",
       "      <td>0.220000</td>\n",
       "      <td>0.780000</td>\n",
       "      <td>1.000000</td>\n",
       "      <td>1.000000</td>\n",
       "    </tr>\n",
       "    <tr>\n",
       "      <th>75%</th>\n",
       "      <td>0.296051</td>\n",
       "      <td>0.836037</td>\n",
       "      <td>1.000000</td>\n",
       "      <td>0.289400</td>\n",
       "      <td>0.835800</td>\n",
       "      <td>1.000000</td>\n",
       "      <td>1.000000</td>\n",
       "    </tr>\n",
       "    <tr>\n",
       "      <th>max</th>\n",
       "      <td>0.714971</td>\n",
       "      <td>0.925436</td>\n",
       "      <td>1.000000</td>\n",
       "      <td>0.696400</td>\n",
       "      <td>0.948600</td>\n",
       "      <td>1.000000</td>\n",
       "      <td>1.000000</td>\n",
       "    </tr>\n",
       "  </tbody>\n",
       "</table>\n",
       "</div>"
      ],
      "text/plain": [
       "        y_score_0   y_score_1      y_true  y_score_0_lunit  y_score_1_lunit  \\\n",
       "count  305.000000  305.000000  305.000000       305.000000       305.000000   \n",
       "mean     0.241661    0.758339    0.744262         0.234121         0.765879   \n",
       "std      0.110915    0.110915    0.436992         0.100203         0.100203   \n",
       "min      0.074564    0.285029    0.000000         0.051400         0.303600   \n",
       "25%      0.163963    0.703949    0.000000         0.164200         0.710600   \n",
       "50%      0.215199    0.784801    1.000000         0.220000         0.780000   \n",
       "75%      0.296051    0.836037    1.000000         0.289400         0.835800   \n",
       "max      0.714971    0.925436    1.000000         0.696400         0.948600   \n",
       "\n",
       "            class  class_lunit  \n",
       "count  305.000000   305.000000  \n",
       "mean     0.967213     0.977049  \n",
       "std      0.178371     0.149993  \n",
       "min      0.000000     0.000000  \n",
       "25%      1.000000     1.000000  \n",
       "50%      1.000000     1.000000  \n",
       "75%      1.000000     1.000000  \n",
       "max      1.000000     1.000000  "
      ]
     },
     "execution_count": 5,
     "metadata": {},
     "output_type": "execute_result"
    }
   ],
   "source": [
    "df.describe()"
   ]
  },
  {
   "cell_type": "markdown",
   "metadata": {},
   "source": [
    "#### ROC-AUC for our preds"
   ]
  },
  {
   "cell_type": "code",
   "execution_count": 6,
   "metadata": {},
   "outputs": [
    {
     "data": {
      "text/plain": [
       "0.6364226815768667"
      ]
     },
     "execution_count": 6,
     "metadata": {},
     "output_type": "execute_result"
    }
   ],
   "source": [
    "roc_auc_score(y_true=df['y_true'], y_score=df['y_score_1'])"
   ]
  },
  {
   "cell_type": "markdown",
   "metadata": {},
   "source": [
    "#### ROC-AUC for Lunit preds"
   ]
  },
  {
   "cell_type": "code",
   "execution_count": 7,
   "metadata": {},
   "outputs": [
    {
     "data": {
      "text/plain": [
       "0.617671975601491"
      ]
     },
     "execution_count": 7,
     "metadata": {},
     "output_type": "execute_result"
    }
   ],
   "source": [
    "roc_auc_score(y_true=df['y_true'], y_score=df['y_score_1_lunit'])"
   ]
  },
  {
   "cell_type": "markdown",
   "metadata": {},
   "source": [
    "#### Confusion matrices for our and Lunit preds"
   ]
  },
  {
   "cell_type": "code",
   "execution_count": 8,
   "metadata": {},
   "outputs": [
    {
     "name": "stdout",
     "output_type": "stream",
     "text": [
      "[[  7  71]\n",
      " [  3 224]]\n",
      "[[  6  72]\n",
      " [  1 226]]\n"
     ]
    }
   ],
   "source": [
    "print(confusion_matrix(\n",
    "    y_true=df['y_true'],\n",
    "    y_pred=df['class']\n",
    "))\n",
    "print(confusion_matrix(\n",
    "    y_true=df['y_true'],\n",
    "    y_pred=df['class_lunit']\n",
    "))"
   ]
  },
  {
   "cell_type": "markdown",
   "metadata": {},
   "source": [
    "#### Classification report for our and Lunit preds"
   ]
  },
  {
   "cell_type": "code",
   "execution_count": 9,
   "metadata": {},
   "outputs": [
    {
     "name": "stdout",
     "output_type": "stream",
     "text": [
      "              precision    recall  f1-score   support\n",
      "\n",
      "           0       0.70      0.09      0.16        78\n",
      "           1       0.76      0.99      0.86       227\n",
      "\n",
      "    accuracy                           0.76       305\n",
      "   macro avg       0.73      0.54      0.51       305\n",
      "weighted avg       0.74      0.76      0.68       305\n",
      "\n",
      "              precision    recall  f1-score   support\n",
      "\n",
      "           0       0.86      0.08      0.14        78\n",
      "           1       0.76      1.00      0.86       227\n",
      "\n",
      "    accuracy                           0.76       305\n",
      "   macro avg       0.81      0.54      0.50       305\n",
      "weighted avg       0.78      0.76      0.68       305\n",
      "\n"
     ]
    }
   ],
   "source": [
    "print(classification_report(\n",
    "    y_true=df['y_true'],\n",
    "    y_pred=df['class']\n",
    "))\n",
    "print(classification_report(\n",
    "    y_true=df['y_true'],\n",
    "    y_pred=df['class_lunit']\n",
    "))"
   ]
  },
  {
   "cell_type": "markdown",
   "metadata": {},
   "source": [
    "#### Scores distribution for class 1 (our vs Lunit)"
   ]
  },
  {
   "cell_type": "code",
   "execution_count": 10,
   "metadata": {},
   "outputs": [
    {
     "data": {
      "text/plain": [
       "<Axes: ylabel='Density'>"
      ]
     },
     "execution_count": 10,
     "metadata": {},
     "output_type": "execute_result"
    },
    {
     "data": {
      "image/png": "[encoded data removed]",
      "text/plain": [
       "<Figure size 640x480 with 1 Axes>"
      ]
     },
     "metadata": {},
     "output_type": "display_data"
    }
   ],
   "source": [
    "df['y_score_1'].plot(kind='kde', legend=True)\n",
    "df['y_score_1_lunit'].plot(kind='kde', legend=True)"
   ]
  },
  {
   "cell_type": "markdown",
   "metadata": {},
   "source": [
    "#### Our model scores for class 1 conditioned on true label"
   ]
  },
  {
   "cell_type": "code",
   "execution_count": 11,
   "metadata": {},
   "outputs": [
    {
     "data": {
      "text/plain": [
       "<seaborn.axisgrid.FacetGrid at 0x17b842850>"
      ]
     },
     "execution_count": 11,
     "metadata": {},
     "output_type": "execute_result"
    },
    {
     "data": {
      "image/png": "[encoded data removed]",
      "text/plain": [
       "<Figure size 558.875x500 with 1 Axes>"
      ]
     },
     "metadata": {},
     "output_type": "display_data"
    }
   ],
   "source": [
    "sns.displot(data=df, x='y_score_1', hue='y_true', kind='kde')"
   ]
  },
  {
   "cell_type": "markdown",
   "metadata": {},
   "source": [
    "#### Lunit model scores for class 1 conditioned on true label"
   ]
  },
  {
   "cell_type": "code",
   "execution_count": 12,
   "metadata": {},
   "outputs": [
    {
     "data": {
      "text/plain": [
       "<seaborn.axisgrid.FacetGrid at 0x17b928a60>"
      ]
     },
     "execution_count": 12,
     "metadata": {},
     "output_type": "execute_result"
    },
    {
     "data": {
      "image/png": "[encoded data removed]",
      "text/plain": [
       "<Figure size 558.875x500 with 1 Axes>"
      ]
     },
     "metadata": {},
     "output_type": "display_data"
    }
   ],
   "source": [
    "sns.displot(data=df, x='y_score_1_lunit', hue='y_true', kind='kde')"
   ]
  },
  {
   "cell_type": "markdown",
   "metadata": {},
   "source": [
    "#### After all, our model predicts ER status slightly better (according to ROC-AUC): ~0.64 vs ~0.62"
   ]
  },
  {
   "cell_type": "markdown",
   "metadata": {},
   "source": [
    "#### Read clinical and other features"
   ]
  },
  {
   "cell_type": "code",
   "execution_count": 13,
   "metadata": {},
   "outputs": [
    {
     "name": "stdout",
     "output_type": "stream",
     "text": [
      "(922, 98)\n"
     ]
    },
    {
     "data": {
      "text/html": [
       "<div>\n",
       "<style scoped>\n",
       "    .dataframe tbody tr th:only-of-type {\n",
       "        vertical-align: middle;\n",
       "    }\n",
       "\n",
       "    .dataframe tbody tr th {\n",
       "        vertical-align: top;\n",
       "    }\n",
       "\n",
       "    .dataframe thead th {\n",
       "        text-align: right;\n",
       "    }\n",
       "</style>\n",
       "<table border=\"1\" class=\"dataframe\">\n",
       "  <thead>\n",
       "    <tr style=\"text-align: right;\">\n",
       "      <th></th>\n",
       "      <th>Patient ID</th>\n",
       "      <th>Days to MRI (From the Date of Diagnosis)</th>\n",
       "      <th>Manufacturer</th>\n",
       "      <th>Manufacturer Model Name</th>\n",
       "      <th>Scan Options</th>\n",
       "      <th>Field Strength (Tesla)</th>\n",
       "      <th>Patient Position During MRI</th>\n",
       "      <th>Image Position of Patient</th>\n",
       "      <th>Contrast Agent</th>\n",
       "      <th>Contrast Bolus Volume (mL)</th>\n",
       "      <th>...</th>\n",
       "      <th>Therapeutic or Prophylactic Oophorectomy as part of Endocrine Therapy</th>\n",
       "      <th>Neoadjuvant Anti-Her2 Neu Therapy</th>\n",
       "      <th>Adjuvant Anti-Her2 Neu Therapy</th>\n",
       "      <th>Received Neoadjuvant Therapy or Not</th>\n",
       "      <th>Pathologic response to Neoadjuvant therapy: Pathologic stage (T) following neoadjuvant therapy</th>\n",
       "      <th>Pathologic response to Neoadjuvant therapy:  Pathologic stage (N) following neoadjuvant therapy</th>\n",
       "      <th>Pathologic response to Neoadjuvant therapy:  Pathologic stage (M) following neoadjuvant therapy</th>\n",
       "      <th>Overall Near-complete Response:  Stricter Definition</th>\n",
       "      <th>Overall Near-complete Response:  Looser Definition</th>\n",
       "      <th>Near-complete Response (Graded Measure)</th>\n",
       "    </tr>\n",
       "  </thead>\n",
       "  <tbody>\n",
       "    <tr>\n",
       "      <th>0</th>\n",
       "      <td>Breast_MRI_001</td>\n",
       "      <td>6</td>\n",
       "      <td>2</td>\n",
       "      <td>0</td>\n",
       "      <td>5</td>\n",
       "      <td>1</td>\n",
       "      <td>0</td>\n",
       "      <td>-191.8003 X -176.1259 X 86.6065</td>\n",
       "      <td>1.0</td>\n",
       "      <td>15.0</td>\n",
       "      <td>...</td>\n",
       "      <td>1</td>\n",
       "      <td>1.0</td>\n",
       "      <td>1.0</td>\n",
       "      <td>1.0</td>\n",
       "      <td>1.0</td>\n",
       "      <td>-1.0</td>\n",
       "      <td>-1.0</td>\n",
       "      <td>0.0</td>\n",
       "      <td>0.0</td>\n",
       "      <td>0.0</td>\n",
       "    </tr>\n",
       "    <tr>\n",
       "      <th>1</th>\n",
       "      <td>Breast_MRI_002</td>\n",
       "      <td>12</td>\n",
       "      <td>0</td>\n",
       "      <td>4</td>\n",
       "      <td>1</td>\n",
       "      <td>3</td>\n",
       "      <td>0</td>\n",
       "      <td>154.724 X 176.048 X 94.5771</td>\n",
       "      <td>1.0</td>\n",
       "      <td>NaN</td>\n",
       "      <td>...</td>\n",
       "      <td>0</td>\n",
       "      <td>0.0</td>\n",
       "      <td>0.0</td>\n",
       "      <td>1.0</td>\n",
       "      <td>NaN</td>\n",
       "      <td>NaN</td>\n",
       "      <td>NaN</td>\n",
       "      <td>2.0</td>\n",
       "      <td>2.0</td>\n",
       "      <td>4.0</td>\n",
       "    </tr>\n",
       "    <tr>\n",
       "      <th>2</th>\n",
       "      <td>Breast_MRI_003</td>\n",
       "      <td>10</td>\n",
       "      <td>0</td>\n",
       "      <td>3</td>\n",
       "      <td>2</td>\n",
       "      <td>3</td>\n",
       "      <td>0</td>\n",
       "      <td>174.658 X 228.317 X 88.4878</td>\n",
       "      <td>1.0</td>\n",
       "      <td>NaN</td>\n",
       "      <td>...</td>\n",
       "      <td>0</td>\n",
       "      <td>0.0</td>\n",
       "      <td>0.0</td>\n",
       "      <td>1.0</td>\n",
       "      <td>1.0</td>\n",
       "      <td>1.0</td>\n",
       "      <td>-1.0</td>\n",
       "      <td>0.0</td>\n",
       "      <td>0.0</td>\n",
       "      <td>0.0</td>\n",
       "    </tr>\n",
       "    <tr>\n",
       "      <th>3</th>\n",
       "      <td>Breast_MRI_004</td>\n",
       "      <td>18</td>\n",
       "      <td>0</td>\n",
       "      <td>4</td>\n",
       "      <td>1</td>\n",
       "      <td>1</td>\n",
       "      <td>0</td>\n",
       "      <td>188.148 X 194.282 X 94.1832</td>\n",
       "      <td>1.0</td>\n",
       "      <td>NaN</td>\n",
       "      <td>...</td>\n",
       "      <td>0</td>\n",
       "      <td>0.0</td>\n",
       "      <td>0.0</td>\n",
       "      <td>2.0</td>\n",
       "      <td>NaN</td>\n",
       "      <td>NaN</td>\n",
       "      <td>NaN</td>\n",
       "      <td>NaN</td>\n",
       "      <td>NaN</td>\n",
       "      <td>NaN</td>\n",
       "    </tr>\n",
       "    <tr>\n",
       "      <th>4</th>\n",
       "      <td>Breast_MRI_005</td>\n",
       "      <td>12</td>\n",
       "      <td>2</td>\n",
       "      <td>0</td>\n",
       "      <td>5</td>\n",
       "      <td>1</td>\n",
       "      <td>1</td>\n",
       "      <td>-173.063 X -150.7869 X 59.161</td>\n",
       "      <td>1.0</td>\n",
       "      <td>5.0</td>\n",
       "      <td>...</td>\n",
       "      <td>0</td>\n",
       "      <td>1.0</td>\n",
       "      <td>1.0</td>\n",
       "      <td>1.0</td>\n",
       "      <td>0.0</td>\n",
       "      <td>0.0</td>\n",
       "      <td>-1.0</td>\n",
       "      <td>1.0</td>\n",
       "      <td>1.0</td>\n",
       "      <td>1.0</td>\n",
       "    </tr>\n",
       "  </tbody>\n",
       "</table>\n",
       "<p>5 rows × 98 columns</p>\n",
       "</div>"
      ],
      "text/plain": [
       "       Patient ID  Days to MRI (From the Date of Diagnosis)  Manufacturer  \\\n",
       "0  Breast_MRI_001                                         6             2   \n",
       "1  Breast_MRI_002                                        12             0   \n",
       "2  Breast_MRI_003                                        10             0   \n",
       "3  Breast_MRI_004                                        18             0   \n",
       "4  Breast_MRI_005                                        12             2   \n",
       "\n",
       "   Manufacturer Model Name  Scan Options  Field Strength (Tesla)  \\\n",
       "0                        0             5                       1   \n",
       "1                        4             1                       3   \n",
       "2                        3             2                       3   \n",
       "3                        4             1                       1   \n",
       "4                        0             5                       1   \n",
       "\n",
       "   Patient Position During MRI        Image Position of Patient  \\\n",
       "0                            0  -191.8003 X -176.1259 X 86.6065   \n",
       "1                            0      154.724 X 176.048 X 94.5771   \n",
       "2                            0      174.658 X 228.317 X 88.4878   \n",
       "3                            0      188.148 X 194.282 X 94.1832   \n",
       "4                            1    -173.063 X -150.7869 X 59.161   \n",
       "\n",
       "   Contrast Agent  Contrast Bolus Volume (mL)  ...  \\\n",
       "0             1.0                        15.0  ...   \n",
       "1             1.0                         NaN  ...   \n",
       "2             1.0                         NaN  ...   \n",
       "3             1.0                         NaN  ...   \n",
       "4             1.0                         5.0  ...   \n",
       "\n",
       "   Therapeutic or Prophylactic Oophorectomy as part of Endocrine Therapy   \\\n",
       "0                                                  1                        \n",
       "1                                                  0                        \n",
       "2                                                  0                        \n",
       "3                                                  0                        \n",
       "4                                                  0                        \n",
       "\n",
       "   Neoadjuvant Anti-Her2 Neu Therapy  Adjuvant Anti-Her2 Neu Therapy   \\\n",
       "0                                1.0                              1.0   \n",
       "1                                0.0                              0.0   \n",
       "2                                0.0                              0.0   \n",
       "3                                0.0                              0.0   \n",
       "4                                1.0                              1.0   \n",
       "\n",
       "   Received Neoadjuvant Therapy or Not  \\\n",
       "0                                  1.0   \n",
       "1                                  1.0   \n",
       "2                                  1.0   \n",
       "3                                  2.0   \n",
       "4                                  1.0   \n",
       "\n",
       "   Pathologic response to Neoadjuvant therapy: Pathologic stage (T) following neoadjuvant therapy   \\\n",
       "0                                                1.0                                                 \n",
       "1                                                NaN                                                 \n",
       "2                                                1.0                                                 \n",
       "3                                                NaN                                                 \n",
       "4                                                0.0                                                 \n",
       "\n",
       "   Pathologic response to Neoadjuvant therapy:  Pathologic stage (N) following neoadjuvant therapy  \\\n",
       "0                                               -1.0                                                 \n",
       "1                                                NaN                                                 \n",
       "2                                                1.0                                                 \n",
       "3                                                NaN                                                 \n",
       "4                                                0.0                                                 \n",
       "\n",
       "   Pathologic response to Neoadjuvant therapy:  Pathologic stage (M) following neoadjuvant therapy   \\\n",
       "0                                               -1.0                                                  \n",
       "1                                                NaN                                                  \n",
       "2                                               -1.0                                                  \n",
       "3                                                NaN                                                  \n",
       "4                                               -1.0                                                  \n",
       "\n",
       "   Overall Near-complete Response:  Stricter Definition  \\\n",
       "0                                                0.0      \n",
       "1                                                2.0      \n",
       "2                                                0.0      \n",
       "3                                                NaN      \n",
       "4                                                1.0      \n",
       "\n",
       "   Overall Near-complete Response:  Looser Definition  \\\n",
       "0                                                0.0    \n",
       "1                                                2.0    \n",
       "2                                                0.0    \n",
       "3                                                NaN    \n",
       "4                                                1.0    \n",
       "\n",
       "   Near-complete Response (Graded Measure)  \n",
       "0                                      0.0  \n",
       "1                                      4.0  \n",
       "2                                      0.0  \n",
       "3                                      NaN  \n",
       "4                                      1.0  \n",
       "\n",
       "[5 rows x 98 columns]"
      ]
     },
     "execution_count": 13,
     "metadata": {},
     "output_type": "execute_result"
    }
   ],
   "source": [
    "df_clinical_features = pd.read_excel(\n",
    "    '../data/Clinical_and_Other_Features.xlsx',\n",
    "    header=[1],\n",
    "    skiprows=[2]\n",
    ")\n",
    "print(df_clinical_features.shape)\n",
    "df_clinical_features.head()"
   ]
  },
  {
   "cell_type": "markdown",
   "metadata": {},
   "source": [
    "#### Join a Manufacturer"
   ]
  },
  {
   "cell_type": "code",
   "execution_count": 14,
   "metadata": {},
   "outputs": [
    {
     "name": "stdout",
     "output_type": "stream",
     "text": [
      "(305, 9)\n"
     ]
    },
    {
     "data": {
      "text/html": [
       "<div>\n",
       "<style scoped>\n",
       "    .dataframe tbody tr th:only-of-type {\n",
       "        vertical-align: middle;\n",
       "    }\n",
       "\n",
       "    .dataframe tbody tr th {\n",
       "        vertical-align: top;\n",
       "    }\n",
       "\n",
       "    .dataframe thead th {\n",
       "        text-align: right;\n",
       "    }\n",
       "</style>\n",
       "<table border=\"1\" class=\"dataframe\">\n",
       "  <thead>\n",
       "    <tr style=\"text-align: right;\">\n",
       "      <th></th>\n",
       "      <th>Patient ID</th>\n",
       "      <th>y_score_0</th>\n",
       "      <th>y_score_1</th>\n",
       "      <th>y_true</th>\n",
       "      <th>y_score_0_lunit</th>\n",
       "      <th>y_score_1_lunit</th>\n",
       "      <th>class</th>\n",
       "      <th>class_lunit</th>\n",
       "      <th>Manufacturer</th>\n",
       "    </tr>\n",
       "  </thead>\n",
       "  <tbody>\n",
       "    <tr>\n",
       "      <th>0</th>\n",
       "      <td>Breast_MRI_002</td>\n",
       "      <td>0.246281</td>\n",
       "      <td>0.753719</td>\n",
       "      <td>0</td>\n",
       "      <td>0.2038</td>\n",
       "      <td>0.7962</td>\n",
       "      <td>1</td>\n",
       "      <td>1</td>\n",
       "      <td>0</td>\n",
       "    </tr>\n",
       "    <tr>\n",
       "      <th>1</th>\n",
       "      <td>Breast_MRI_004</td>\n",
       "      <td>0.171976</td>\n",
       "      <td>0.828024</td>\n",
       "      <td>1</td>\n",
       "      <td>0.1782</td>\n",
       "      <td>0.8218</td>\n",
       "      <td>1</td>\n",
       "      <td>1</td>\n",
       "      <td>0</td>\n",
       "    </tr>\n",
       "    <tr>\n",
       "      <th>2</th>\n",
       "      <td>Breast_MRI_006</td>\n",
       "      <td>0.271742</td>\n",
       "      <td>0.728258</td>\n",
       "      <td>1</td>\n",
       "      <td>0.2056</td>\n",
       "      <td>0.7944</td>\n",
       "      <td>1</td>\n",
       "      <td>1</td>\n",
       "      <td>0</td>\n",
       "    </tr>\n",
       "    <tr>\n",
       "      <th>3</th>\n",
       "      <td>Breast_MRI_007</td>\n",
       "      <td>0.183952</td>\n",
       "      <td>0.816048</td>\n",
       "      <td>1</td>\n",
       "      <td>0.1586</td>\n",
       "      <td>0.8414</td>\n",
       "      <td>1</td>\n",
       "      <td>1</td>\n",
       "      <td>2</td>\n",
       "    </tr>\n",
       "    <tr>\n",
       "      <th>4</th>\n",
       "      <td>Breast_MRI_010</td>\n",
       "      <td>0.570598</td>\n",
       "      <td>0.429402</td>\n",
       "      <td>0</td>\n",
       "      <td>0.5102</td>\n",
       "      <td>0.4898</td>\n",
       "      <td>0</td>\n",
       "      <td>0</td>\n",
       "      <td>0</td>\n",
       "    </tr>\n",
       "  </tbody>\n",
       "</table>\n",
       "</div>"
      ],
      "text/plain": [
       "       Patient ID  y_score_0  y_score_1  y_true  y_score_0_lunit  \\\n",
       "0  Breast_MRI_002   0.246281   0.753719       0           0.2038   \n",
       "1  Breast_MRI_004   0.171976   0.828024       1           0.1782   \n",
       "2  Breast_MRI_006   0.271742   0.728258       1           0.2056   \n",
       "3  Breast_MRI_007   0.183952   0.816048       1           0.1586   \n",
       "4  Breast_MRI_010   0.570598   0.429402       0           0.5102   \n",
       "\n",
       "   y_score_1_lunit  class  class_lunit  Manufacturer  \n",
       "0           0.7962      1            1             0  \n",
       "1           0.8218      1            1             0  \n",
       "2           0.7944      1            1             0  \n",
       "3           0.8414      1            1             2  \n",
       "4           0.4898      0            0             0  "
      ]
     },
     "execution_count": 14,
     "metadata": {},
     "output_type": "execute_result"
    }
   ],
   "source": [
    "df = df.merge(\n",
    "    right=df_clinical_features[['Patient ID', 'Manufacturer']],\n",
    "    on='Patient ID'\n",
    ")\n",
    "print(df.shape)\n",
    "df.head()"
   ]
  },
  {
   "cell_type": "markdown",
   "metadata": {},
   "source": [
    "#### Number of patients per manufacturer"
   ]
  },
  {
   "cell_type": "code",
   "execution_count": 15,
   "metadata": {},
   "outputs": [
    {
     "data": {
      "text/plain": [
       "Manufacturer\n",
       "0    213\n",
       "2     92\n",
       "Name: count, dtype: int64"
      ]
     },
     "execution_count": 15,
     "metadata": {},
     "output_type": "execute_result"
    }
   ],
   "source": [
    "df['Manufacturer'].value_counts()"
   ]
  },
  {
   "cell_type": "markdown",
   "metadata": {},
   "source": [
    "#### ROC-AUC score for patients that have MRI from Siemens"
   ]
  },
  {
   "cell_type": "code",
   "execution_count": 16,
   "metadata": {},
   "outputs": [
    {
     "data": {
      "text/plain": [
       "0.6943919344675488"
      ]
     },
     "execution_count": 16,
     "metadata": {},
     "output_type": "execute_result"
    }
   ],
   "source": [
    "roc_auc_score(\n",
    "    y_true=df[df['Manufacturer'] == 2]['y_true'],\n",
    "    y_score=df[df['Manufacturer'] == 2]['y_score_1']\n",
    ")"
   ]
  },
  {
   "cell_type": "markdown",
   "metadata": {},
   "source": [
    "#### Let's make several rounds of stratified sampling from GE subset and compute a confidence interval for ROC-AUC"
   ]
  },
  {
   "cell_type": "code",
   "execution_count": 17,
   "metadata": {},
   "outputs": [
    {
     "name": "stderr",
     "output_type": "stream",
     "text": [
      "  0%|          | 0/30 [00:00<?, ?it/s]"
     ]
    },
    {
     "name": "stderr",
     "output_type": "stream",
     "text": [
      "100%|██████████| 30/30 [00:00<00:00, 60.74it/s]\n"
     ]
    },
    {
     "data": {
      "text/plain": [
       "<seaborn.axisgrid.FacetGrid at 0x17b91ba00>"
      ]
     },
     "execution_count": 17,
     "metadata": {},
     "output_type": "execute_result"
    },
    {
     "data": {
      "image/png": "[encoded data removed]",
      "text/plain": [
       "<Figure size 500x500 with 1 Axes>"
      ]
     },
     "metadata": {},
     "output_type": "display_data"
    }
   ],
   "source": [
    "sample_size = 30\n",
    "bootstrap_rounds = 30 \n",
    "n_siemens = df['Manufacturer'].value_counts()[2]\n",
    "\n",
    "df_GE = df[df['Manufacturer'] == 0]\n",
    "sample_means = []\n",
    "for _ in tqdm(range(bootstrap_rounds)):\n",
    "    roc_auc_hist = []\n",
    "    for _ in range(sample_size):\n",
    "        _, df_curr, _, _  = train_test_split(df_GE, df_GE['y_true'], test_size=n_siemens)\n",
    "        roc_auc_hist.append(roc_auc_score(\n",
    "            y_true=df_curr['y_true'],\n",
    "            y_score=df_curr['y_score_1']\n",
    "        ))\n",
    "    sample_means.append(np.mean(roc_auc_hist))\n",
    "sns.displot(sample_means, kind='kde', rug=True)"
   ]
  },
  {
   "cell_type": "markdown",
   "metadata": {},
   "source": [
    "#### Median/mean for sample of means"
   ]
  },
  {
   "cell_type": "code",
   "execution_count": 18,
   "metadata": {},
   "outputs": [
    {
     "data": {
      "text/plain": [
       "(0.6126886700257188, 0.6140366026165651)"
      ]
     },
     "execution_count": 18,
     "metadata": {},
     "output_type": "execute_result"
    }
   ],
   "source": [
    "np.median(sample_means), np.mean(sample_means)"
   ]
  },
  {
   "cell_type": "markdown",
   "metadata": {},
   "source": [
    "#### 95% confidence interval"
   ]
  },
  {
   "cell_type": "code",
   "execution_count": 19,
   "metadata": {},
   "outputs": [
    {
     "data": {
      "text/plain": [
       "(0.6096649594163753, 0.6184082458167549)"
      ]
     },
     "execution_count": 19,
     "metadata": {},
     "output_type": "execute_result"
    }
   ],
   "source": [
    "confidence = 0.95\n",
    "\n",
    "stats.t.interval(\n",
    "    confidence=confidence, \n",
    "    df=len(sample_means) - 1, \n",
    "    loc=np.mean(sample_means),\n",
    "    scale=stats.sem(sample_means)\n",
    ")"
   ]
  },
  {
   "cell_type": "markdown",
   "metadata": {},
   "source": [
    "#### As far:\n",
    "- According to ROC-AUC (0.636 vs 0.617), our model performs slightly better (at least on test set)\n",
    "- 95% confidence interval for GE ROC-AUC on test set is [0.613, 0.622]\n",
    "- Test ROC-AUC for Siemens is 0.694\n",
    "- Taking into account the number of samples available for Siemens/GE during train/test (202/415 and 92/213), it's not likely that performance difference between manufacturers were caused by chance. However, predictions were made by model that already seen both manufacturers during training stage, which brings some caveats and uncertainty to conclusions. Anyway, if it was me, I would probably recommend to switch from GE to Siemens.\n",
    "\n",
    "More fair experiment (in my opinion):\n",
    "- Take two samples of patients (one for train, one for test)\n",
    "- Collect features for both samples using GE and Siemens equipment\n",
    "- Now we have 2 train sets and 2 test sets (one for GE, one for Siemens), but with same targets\n",
    "- Fit 2 different models on train sets and make predictions on corresponding test sets\n",
    "- Compare results"
   ]
  }
 ],
 "metadata": {
  "kernelspec": {
   "display_name": "ml",
   "language": "python",
   "name": "python3"
  },
  "language_info": {
   "codemirror_mode": {
    "name": "ipython",
    "version": 3
   },
   "file_extension": ".py",
   "mimetype": "text/x-python",
   "name": "python",
   "nbconvert_exporter": "python",
   "pygments_lexer": "ipython3",
   "version": "3.8.16"
  }
 },
 "nbformat": 4,
 "nbformat_minor": 2
}
